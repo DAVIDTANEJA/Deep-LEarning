{
 "cells": [
  {
   "cell_type": "code",
   "execution_count": 12,
   "metadata": {},
   "outputs": [
    {
     "name": "stderr",
     "output_type": "stream",
     "text": [
      "Using TensorFlow backend.\n"
     ]
    }
   ],
   "source": [
    "import pandas as pd\n",
    "import numpy as np\n",
    "import matplotlib.pyplot as plt\n",
    "%matplotlib inline \n",
    "\n",
    "import keras\n",
    "from keras.models import Sequential\n",
    "from keras.layers import Dense"
   ]
  },
  {
   "cell_type": "code",
   "execution_count": 4,
   "metadata": {},
   "outputs": [
    {
     "data": {
      "text/html": [
       "<div>\n",
       "<style scoped>\n",
       "    .dataframe tbody tr th:only-of-type {\n",
       "        vertical-align: middle;\n",
       "    }\n",
       "\n",
       "    .dataframe tbody tr th {\n",
       "        vertical-align: top;\n",
       "    }\n",
       "\n",
       "    .dataframe thead th {\n",
       "        text-align: right;\n",
       "    }\n",
       "</style>\n",
       "<table border=\"1\" class=\"dataframe\">\n",
       "  <thead>\n",
       "    <tr style=\"text-align: right;\">\n",
       "      <th></th>\n",
       "      <th>RowNumber</th>\n",
       "      <th>CustomerId</th>\n",
       "      <th>Surname</th>\n",
       "      <th>CreditScore</th>\n",
       "      <th>Geography</th>\n",
       "      <th>Gender</th>\n",
       "      <th>Age</th>\n",
       "      <th>Tenure</th>\n",
       "      <th>Balance</th>\n",
       "      <th>NumOfProducts</th>\n",
       "      <th>HasCrCard</th>\n",
       "      <th>IsActiveMember</th>\n",
       "      <th>EstimatedSalary</th>\n",
       "      <th>Exited</th>\n",
       "    </tr>\n",
       "  </thead>\n",
       "  <tbody>\n",
       "    <tr>\n",
       "      <th>0</th>\n",
       "      <td>1</td>\n",
       "      <td>15634602</td>\n",
       "      <td>Hargrave</td>\n",
       "      <td>619</td>\n",
       "      <td>France</td>\n",
       "      <td>Female</td>\n",
       "      <td>42</td>\n",
       "      <td>2</td>\n",
       "      <td>0.00</td>\n",
       "      <td>1</td>\n",
       "      <td>1</td>\n",
       "      <td>1</td>\n",
       "      <td>101348.88</td>\n",
       "      <td>1</td>\n",
       "    </tr>\n",
       "    <tr>\n",
       "      <th>1</th>\n",
       "      <td>2</td>\n",
       "      <td>15647311</td>\n",
       "      <td>Hill</td>\n",
       "      <td>608</td>\n",
       "      <td>Spain</td>\n",
       "      <td>Female</td>\n",
       "      <td>41</td>\n",
       "      <td>1</td>\n",
       "      <td>83807.86</td>\n",
       "      <td>1</td>\n",
       "      <td>0</td>\n",
       "      <td>1</td>\n",
       "      <td>112542.58</td>\n",
       "      <td>0</td>\n",
       "    </tr>\n",
       "    <tr>\n",
       "      <th>2</th>\n",
       "      <td>3</td>\n",
       "      <td>15619304</td>\n",
       "      <td>Onio</td>\n",
       "      <td>502</td>\n",
       "      <td>France</td>\n",
       "      <td>Female</td>\n",
       "      <td>42</td>\n",
       "      <td>8</td>\n",
       "      <td>159660.80</td>\n",
       "      <td>3</td>\n",
       "      <td>1</td>\n",
       "      <td>0</td>\n",
       "      <td>113931.57</td>\n",
       "      <td>1</td>\n",
       "    </tr>\n",
       "    <tr>\n",
       "      <th>3</th>\n",
       "      <td>4</td>\n",
       "      <td>15701354</td>\n",
       "      <td>Boni</td>\n",
       "      <td>699</td>\n",
       "      <td>France</td>\n",
       "      <td>Female</td>\n",
       "      <td>39</td>\n",
       "      <td>1</td>\n",
       "      <td>0.00</td>\n",
       "      <td>2</td>\n",
       "      <td>0</td>\n",
       "      <td>0</td>\n",
       "      <td>93826.63</td>\n",
       "      <td>0</td>\n",
       "    </tr>\n",
       "    <tr>\n",
       "      <th>4</th>\n",
       "      <td>5</td>\n",
       "      <td>15737888</td>\n",
       "      <td>Mitchell</td>\n",
       "      <td>850</td>\n",
       "      <td>Spain</td>\n",
       "      <td>Female</td>\n",
       "      <td>43</td>\n",
       "      <td>2</td>\n",
       "      <td>125510.82</td>\n",
       "      <td>1</td>\n",
       "      <td>1</td>\n",
       "      <td>1</td>\n",
       "      <td>79084.10</td>\n",
       "      <td>0</td>\n",
       "    </tr>\n",
       "  </tbody>\n",
       "</table>\n",
       "</div>"
      ],
      "text/plain": [
       "   RowNumber  CustomerId   Surname  CreditScore Geography  Gender  Age  \\\n",
       "0          1    15634602  Hargrave          619    France  Female   42   \n",
       "1          2    15647311      Hill          608     Spain  Female   41   \n",
       "2          3    15619304      Onio          502    France  Female   42   \n",
       "3          4    15701354      Boni          699    France  Female   39   \n",
       "4          5    15737888  Mitchell          850     Spain  Female   43   \n",
       "\n",
       "   Tenure    Balance  NumOfProducts  HasCrCard  IsActiveMember  \\\n",
       "0       2       0.00              1          1               1   \n",
       "1       1   83807.86              1          0               1   \n",
       "2       8  159660.80              3          1               0   \n",
       "3       1       0.00              2          0               0   \n",
       "4       2  125510.82              1          1               1   \n",
       "\n",
       "   EstimatedSalary  Exited  \n",
       "0        101348.88       1  \n",
       "1        112542.58       0  \n",
       "2        113931.57       1  \n",
       "3         93826.63       0  \n",
       "4         79084.10       0  "
      ]
     },
     "execution_count": 4,
     "metadata": {},
     "output_type": "execute_result"
    }
   ],
   "source": [
    "dataset = pd.read_csv('BankCustomers.csv')\n",
    "dataset.head()"
   ]
  },
  {
   "cell_type": "markdown",
   "metadata": {},
   "source": [
    "#### So 'Exited' column - dependent feature and all remains are - independent features. not reqd. like: Rownumber , CustomerId , Surname"
   ]
  },
  {
   "cell_type": "code",
   "execution_count": 5,
   "metadata": {},
   "outputs": [],
   "source": [
    "X = dataset.iloc[:, 3:13]    # independent \n",
    "y = dataset.iloc[:, 13]      # dependent   "
   ]
  },
  {
   "cell_type": "code",
   "execution_count": 6,
   "metadata": {},
   "outputs": [],
   "source": [
    "# Now we have Categorical features like: Geography , Gender , converting categorical feature into dummy var.\n",
    "\n",
    "states = pd.get_dummies(X['Geography'], drop_first=True)    \n",
    "gender = pd.get_dummies(X['Gender'], drop_first=True)"
   ]
  },
  {
   "cell_type": "code",
   "execution_count": 7,
   "metadata": {},
   "outputs": [],
   "source": [
    "# dropping column 'Geography' , 'Gender', bcoz converted into dummy columns\n",
    "\n",
    "X = X.drop(['Geography','Gender'],axis=1)  "
   ]
  },
  {
   "cell_type": "code",
   "execution_count": 8,
   "metadata": {},
   "outputs": [],
   "source": [
    "X = pd.concat([X,states,gender],axis=1)     # concatenate columns of dummy var. to X"
   ]
  },
  {
   "cell_type": "code",
   "execution_count": 9,
   "metadata": {},
   "outputs": [
    {
     "data": {
      "text/html": [
       "<div>\n",
       "<style scoped>\n",
       "    .dataframe tbody tr th:only-of-type {\n",
       "        vertical-align: middle;\n",
       "    }\n",
       "\n",
       "    .dataframe tbody tr th {\n",
       "        vertical-align: top;\n",
       "    }\n",
       "\n",
       "    .dataframe thead th {\n",
       "        text-align: right;\n",
       "    }\n",
       "</style>\n",
       "<table border=\"1\" class=\"dataframe\">\n",
       "  <thead>\n",
       "    <tr style=\"text-align: right;\">\n",
       "      <th></th>\n",
       "      <th>CreditScore</th>\n",
       "      <th>Age</th>\n",
       "      <th>Tenure</th>\n",
       "      <th>Balance</th>\n",
       "      <th>NumOfProducts</th>\n",
       "      <th>HasCrCard</th>\n",
       "      <th>IsActiveMember</th>\n",
       "      <th>EstimatedSalary</th>\n",
       "      <th>Germany</th>\n",
       "      <th>Spain</th>\n",
       "      <th>Male</th>\n",
       "    </tr>\n",
       "  </thead>\n",
       "  <tbody>\n",
       "    <tr>\n",
       "      <th>0</th>\n",
       "      <td>619</td>\n",
       "      <td>42</td>\n",
       "      <td>2</td>\n",
       "      <td>0.00</td>\n",
       "      <td>1</td>\n",
       "      <td>1</td>\n",
       "      <td>1</td>\n",
       "      <td>101348.88</td>\n",
       "      <td>0</td>\n",
       "      <td>0</td>\n",
       "      <td>0</td>\n",
       "    </tr>\n",
       "    <tr>\n",
       "      <th>1</th>\n",
       "      <td>608</td>\n",
       "      <td>41</td>\n",
       "      <td>1</td>\n",
       "      <td>83807.86</td>\n",
       "      <td>1</td>\n",
       "      <td>0</td>\n",
       "      <td>1</td>\n",
       "      <td>112542.58</td>\n",
       "      <td>0</td>\n",
       "      <td>1</td>\n",
       "      <td>0</td>\n",
       "    </tr>\n",
       "    <tr>\n",
       "      <th>2</th>\n",
       "      <td>502</td>\n",
       "      <td>42</td>\n",
       "      <td>8</td>\n",
       "      <td>159660.80</td>\n",
       "      <td>3</td>\n",
       "      <td>1</td>\n",
       "      <td>0</td>\n",
       "      <td>113931.57</td>\n",
       "      <td>0</td>\n",
       "      <td>0</td>\n",
       "      <td>0</td>\n",
       "    </tr>\n",
       "    <tr>\n",
       "      <th>3</th>\n",
       "      <td>699</td>\n",
       "      <td>39</td>\n",
       "      <td>1</td>\n",
       "      <td>0.00</td>\n",
       "      <td>2</td>\n",
       "      <td>0</td>\n",
       "      <td>0</td>\n",
       "      <td>93826.63</td>\n",
       "      <td>0</td>\n",
       "      <td>0</td>\n",
       "      <td>0</td>\n",
       "    </tr>\n",
       "    <tr>\n",
       "      <th>4</th>\n",
       "      <td>850</td>\n",
       "      <td>43</td>\n",
       "      <td>2</td>\n",
       "      <td>125510.82</td>\n",
       "      <td>1</td>\n",
       "      <td>1</td>\n",
       "      <td>1</td>\n",
       "      <td>79084.10</td>\n",
       "      <td>0</td>\n",
       "      <td>1</td>\n",
       "      <td>0</td>\n",
       "    </tr>\n",
       "  </tbody>\n",
       "</table>\n",
       "</div>"
      ],
      "text/plain": [
       "   CreditScore  Age  Tenure    Balance  NumOfProducts  HasCrCard  \\\n",
       "0          619   42       2       0.00              1          1   \n",
       "1          608   41       1   83807.86              1          0   \n",
       "2          502   42       8  159660.80              3          1   \n",
       "3          699   39       1       0.00              2          0   \n",
       "4          850   43       2  125510.82              1          1   \n",
       "\n",
       "   IsActiveMember  EstimatedSalary  Germany  Spain  Male  \n",
       "0               1        101348.88        0      0     0  \n",
       "1               1        112542.58        0      1     0  \n",
       "2               0        113931.57        0      0     0  \n",
       "3               0         93826.63        0      0     0  \n",
       "4               1         79084.10        0      1     0  "
      ]
     },
     "execution_count": 9,
     "metadata": {},
     "output_type": "execute_result"
    }
   ],
   "source": [
    "X.head()"
   ]
  },
  {
   "cell_type": "code",
   "execution_count": 10,
   "metadata": {},
   "outputs": [],
   "source": [
    "# Now split the dataset into training and testing dataset\n",
    "\n",
    "from sklearn.model_selection import train_test_split\n",
    "\n",
    "X_train, X_test, y_train, y_test = train_test_split(X, y, test_size=0.2, random_state=0)"
   ]
  },
  {
   "cell_type": "code",
   "execution_count": 11,
   "metadata": {},
   "outputs": [
    {
     "name": "stderr",
     "output_type": "stream",
     "text": [
      "C:\\ProgramData\\Anaconda3\\lib\\site-packages\\sklearn\\preprocessing\\data.py:645: DataConversionWarning: Data with input dtype uint8, int64, float64 were all converted to float64 by StandardScaler.\n",
      "  return self.partial_fit(X, y)\n",
      "C:\\ProgramData\\Anaconda3\\lib\\site-packages\\sklearn\\base.py:464: DataConversionWarning: Data with input dtype uint8, int64, float64 were all converted to float64 by StandardScaler.\n",
      "  return self.fit(X, **fit_params).transform(X)\n",
      "C:\\ProgramData\\Anaconda3\\lib\\site-packages\\ipykernel_launcher.py:7: DataConversionWarning: Data with input dtype uint8, int64, float64 were all converted to float64 by StandardScaler.\n",
      "  import sys\n"
     ]
    }
   ],
   "source": [
    "# Scale down all features, Standard Normal Distribution (Mean=0 , Standard Deviation=1) scaled down b/w 0 to 1\n",
    "\n",
    "from sklearn.preprocessing import StandardScaler\n",
    "\n",
    "sc =StandardScaler()                             # scaling in X_train , X_test bcoz of different fetaures\n",
    "X_train = sc.fit_transform(X_train)\n",
    "X_test = sc.transform(X_test)"
   ]
  },
  {
   "cell_type": "markdown",
   "metadata": {},
   "source": [
    "### Building  ANN  model"
   ]
  },
  {
   "cell_type": "markdown",
   "metadata": {},
   "source": [
    "#### we have 11 features as input layer, In 1st hidden layer 6 neurons and 2nd hidden layer also 6 neurons , output layer 1 feature"
   ]
  },
  {
   "cell_type": "code",
   "execution_count": 14,
   "metadata": {},
   "outputs": [
    {
     "name": "stdout",
     "output_type": "stream",
     "text": [
      "_________________________________________________________________\n",
      "Layer (type)                 Output Shape              Param #   \n",
      "=================================================================\n",
      "dense_4 (Dense)              (None, 6)                 72        \n",
      "_________________________________________________________________\n",
      "dense_5 (Dense)              (None, 6)                 42        \n",
      "_________________________________________________________________\n",
      "dense_6 (Dense)              (None, 1)                 7         \n",
      "=================================================================\n",
      "Total params: 121\n",
      "Trainable params: 121\n",
      "Non-trainable params: 0\n",
      "_________________________________________________________________\n"
     ]
    }
   ],
   "source": [
    "classifier = Sequential()\n",
    "\n",
    "# input_dim - 11 input features, kernel_initializer - weights of neuron distributed uniformly\n",
    "classifier.add(Dense(activation='relu', input_dim=11, units=6, kernel_initializer='uniform')) \n",
    "\n",
    "classifier.add(Dense(activation='relu', units=6, kernel_initializer='uniform'))  # 2nd hidden layer\n",
    "\n",
    "classifier.add(Dense(activation='sigmoid', units=1, kernel_initializer='uniform'))  # sigmoid func. either value 0 or 1\n",
    "\n",
    "classifier.summary()"
   ]
  },
  {
   "cell_type": "markdown",
   "metadata": {},
   "source": [
    "### Compile and fit the ANN"
   ]
  },
  {
   "cell_type": "code",
   "execution_count": 16,
   "metadata": {
    "scrolled": true
   },
   "outputs": [
    {
     "name": "stdout",
     "output_type": "stream",
     "text": [
      "Epoch 1/50\n",
      "8000/8000 [==============================] - 2s 293us/step - loss: 0.4033 - acc: 0.8347\n",
      "Epoch 2/50\n",
      "8000/8000 [==============================] - 1s 175us/step - loss: 0.4034 - acc: 0.8332\n",
      "Epoch 3/50\n",
      "8000/8000 [==============================] - 1s 163us/step - loss: 0.4027 - acc: 0.8346\n",
      "Epoch 4/50\n",
      "8000/8000 [==============================] - 1s 166us/step - loss: 0.4034 - acc: 0.8350\n",
      "Epoch 5/50\n",
      "8000/8000 [==============================] - 1s 174us/step - loss: 0.4030 - acc: 0.8334\n",
      "Epoch 6/50\n",
      "8000/8000 [==============================] - 2s 188us/step - loss: 0.4029 - acc: 0.8347\n",
      "Epoch 7/50\n",
      "8000/8000 [==============================] - 2s 189us/step - loss: 0.4020 - acc: 0.8346\n",
      "Epoch 8/50\n",
      "8000/8000 [==============================] - 2s 189us/step - loss: 0.4028 - acc: 0.8349\n",
      "Epoch 9/50\n",
      "8000/8000 [==============================] - 2s 195us/step - loss: 0.4028 - acc: 0.8349\n",
      "Epoch 10/50\n",
      "8000/8000 [==============================] - 2s 196us/step - loss: 0.4023 - acc: 0.8334\n",
      "Epoch 11/50\n",
      "8000/8000 [==============================] - 2s 196us/step - loss: 0.4028 - acc: 0.8346\n",
      "Epoch 12/50\n",
      "8000/8000 [==============================] - 1s 182us/step - loss: 0.4025 - acc: 0.8354\n",
      "Epoch 13/50\n",
      "8000/8000 [==============================] - 1s 154us/step - loss: 0.4025 - acc: 0.8366\n",
      "Epoch 14/50\n",
      "8000/8000 [==============================] - 1s 155us/step - loss: 0.4026 - acc: 0.8349\n",
      "Epoch 15/50\n",
      "8000/8000 [==============================] - 1s 155us/step - loss: 0.4020 - acc: 0.8352\n",
      "Epoch 16/50\n",
      "8000/8000 [==============================] - 1s 155us/step - loss: 0.4017 - acc: 0.8349\n",
      "Epoch 17/50\n",
      "8000/8000 [==============================] - 1s 157us/step - loss: 0.4019 - acc: 0.8341\n",
      "Epoch 18/50\n",
      "8000/8000 [==============================] - 1s 154us/step - loss: 0.4020 - acc: 0.8354\n",
      "Epoch 19/50\n",
      "8000/8000 [==============================] - 1s 154us/step - loss: 0.4018 - acc: 0.8332\n",
      "Epoch 20/50\n",
      "8000/8000 [==============================] - 1s 155us/step - loss: 0.4012 - acc: 0.8350\n",
      "Epoch 21/50\n",
      "8000/8000 [==============================] - 1s 159us/step - loss: 0.4016 - acc: 0.8359\n",
      "Epoch 22/50\n",
      "8000/8000 [==============================] - 1s 161us/step - loss: 0.4012 - acc: 0.8351\n",
      "Epoch 23/50\n",
      "8000/8000 [==============================] - 1s 164us/step - loss: 0.4013 - acc: 0.8362\n",
      "Epoch 24/50\n",
      "8000/8000 [==============================] - 1s 162us/step - loss: 0.4012 - acc: 0.8357\n",
      "Epoch 25/50\n",
      "8000/8000 [==============================] - 1s 155us/step - loss: 0.4011 - acc: 0.8341\n",
      "Epoch 26/50\n",
      "8000/8000 [==============================] - 1s 157us/step - loss: 0.4015 - acc: 0.8349\n",
      "Epoch 27/50\n",
      "8000/8000 [==============================] - 1s 157us/step - loss: 0.4013 - acc: 0.8339\n",
      "Epoch 28/50\n",
      "8000/8000 [==============================] - 1s 162us/step - loss: 0.4011 - acc: 0.8356\n",
      "Epoch 29/50\n",
      "8000/8000 [==============================] - 2s 210us/step - loss: 0.4012 - acc: 0.8365\n",
      "Epoch 30/50\n",
      "8000/8000 [==============================] - 2s 203us/step - loss: 0.4008 - acc: 0.8359\n",
      "Epoch 31/50\n",
      "8000/8000 [==============================] - 2s 196us/step - loss: 0.4014 - acc: 0.8335\n",
      "Epoch 32/50\n",
      "8000/8000 [==============================] - 2s 192us/step - loss: 0.4007 - acc: 0.8339\n",
      "Epoch 33/50\n",
      "8000/8000 [==============================] - 2s 192us/step - loss: 0.4010 - acc: 0.8355\n",
      "Epoch 34/50\n",
      "8000/8000 [==============================] - 2s 193us/step - loss: 0.4008 - acc: 0.8355\n",
      "Epoch 35/50\n",
      "8000/8000 [==============================] - 2s 197us/step - loss: 0.4011 - acc: 0.8352\n",
      "Epoch 36/50\n",
      "8000/8000 [==============================] - 2s 196us/step - loss: 0.4013 - acc: 0.8344\n",
      "Epoch 37/50\n",
      "8000/8000 [==============================] - 2s 195us/step - loss: 0.4008 - acc: 0.8342\n",
      "Epoch 38/50\n",
      "8000/8000 [==============================] - 2s 191us/step - loss: 0.4010 - acc: 0.8357\n",
      "Epoch 39/50\n",
      "8000/8000 [==============================] - 2s 189us/step - loss: 0.4012 - acc: 0.8346\n",
      "Epoch 40/50\n",
      "8000/8000 [==============================] - 1s 187us/step - loss: 0.4008 - acc: 0.8344\n",
      "Epoch 41/50\n",
      "8000/8000 [==============================] - 1s 154us/step - loss: 0.4001 - acc: 0.8359\n",
      "Epoch 42/50\n",
      "8000/8000 [==============================] - 1s 153us/step - loss: 0.4005 - acc: 0.8350\n",
      "Epoch 43/50\n",
      "8000/8000 [==============================] - 1s 153us/step - loss: 0.4007 - acc: 0.8352\n",
      "Epoch 44/50\n",
      "8000/8000 [==============================] - 1s 154us/step - loss: 0.4001 - acc: 0.8360\n",
      "Epoch 45/50\n",
      "8000/8000 [==============================] - 1s 153us/step - loss: 0.4005 - acc: 0.8350\n",
      "Epoch 46/50\n",
      "8000/8000 [==============================] - 1s 153us/step - loss: 0.4001 - acc: 0.8349\n",
      "Epoch 47/50\n",
      "8000/8000 [==============================] - 1s 154us/step - loss: 0.4008 - acc: 0.8342\n",
      "Epoch 48/50\n",
      "8000/8000 [==============================] - 1s 153us/step - loss: 0.4008 - acc: 0.8360\n",
      "Epoch 49/50\n",
      "8000/8000 [==============================] - 1s 154us/step - loss: 0.4003 - acc: 0.8372\n",
      "Epoch 50/50\n",
      "8000/8000 [==============================] - 1s 153us/step - loss: 0.3998 - acc: 0.8352\n"
     ]
    },
    {
     "data": {
      "text/plain": [
       "<keras.callbacks.History at 0x545fec7a90>"
      ]
     },
     "execution_count": 16,
     "metadata": {},
     "output_type": "execute_result"
    }
   ],
   "source": [
    "classifier.compile(optimizer='adam', loss='binary_crossentropy', metrics=['accuracy'])  \n",
    "# adam -reduce cost func. with it classify properly\n",
    "\n",
    "# fit\n",
    "classifier.fit(X_train,y_train, batch_size=10, epochs=50)  # epoch- combination of front and backward propagation"
   ]
  },
  {
   "cell_type": "markdown",
   "metadata": {},
   "source": [
    "#### make Predictions"
   ]
  },
  {
   "cell_type": "code",
   "execution_count": 17,
   "metadata": {},
   "outputs": [],
   "source": [
    "y_pred = classifier.predict(X_test)\n",
    "y_pred = (y_pred > 0.5)  # basically it means gives boolean value(True or False) of o and 1"
   ]
  },
  {
   "cell_type": "markdown",
   "metadata": {},
   "source": [
    "#### Check performance"
   ]
  },
  {
   "cell_type": "code",
   "execution_count": 18,
   "metadata": {},
   "outputs": [],
   "source": [
    "from sklearn.metrics import confusion_matrix, accuracy_score\n",
    "\n",
    "cm = confusion_matrix(y_test, y_pred)\n",
    "accuracy = accuracy_score(y_test, y_pred)"
   ]
  },
  {
   "cell_type": "code",
   "execution_count": 20,
   "metadata": {},
   "outputs": [
    {
     "name": "stdout",
     "output_type": "stream",
     "text": [
      "confusion matrix : \n",
      " [[1539   56]\n",
      " [ 260  145]]\n",
      "\n",
      "Accuracy score :  84.20%\n"
     ]
    }
   ],
   "source": [
    "print('confusion matrix : \\n', cm)       \n",
    "print(f'\\nAccuracy score : {accuracy : 0.2%}')"
   ]
  }
 ],
 "metadata": {
  "kernelspec": {
   "display_name": "Python 3",
   "language": "python",
   "name": "python3"
  },
  "language_info": {
   "codemirror_mode": {
    "name": "ipython",
    "version": 3
   },
   "file_extension": ".py",
   "mimetype": "text/x-python",
   "name": "python",
   "nbconvert_exporter": "python",
   "pygments_lexer": "ipython3",
   "version": "3.6.8"
  }
 },
 "nbformat": 4,
 "nbformat_minor": 2
}
