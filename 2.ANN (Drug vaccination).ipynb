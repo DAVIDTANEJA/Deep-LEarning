{
 "cells": [
  {
   "cell_type": "markdown",
   "metadata": {},
   "source": [
    "### Creating an Dataset and training an Artificial neural Network with Keras "
   ]
  },
  {
   "cell_type": "markdown",
   "metadata": {},
   "source": [
    "#### problem : \n",
    "#### Drug vaccination given b/w age 13 to 100 years.                                           \n",
    "#### 1.people > 65  : observed some side effects  (given label=1)                                   \n",
    "#### 2.people < 65  : no side effects       (given label=0)"
   ]
  },
  {
   "cell_type": "markdown",
   "metadata": {},
   "source": [
    "#### Importing libraries"
   ]
  },
  {
   "cell_type": "code",
   "execution_count": 1,
   "metadata": {},
   "outputs": [
    {
     "name": "stderr",
     "output_type": "stream",
     "text": [
      "Using TensorFlow backend.\n"
     ]
    }
   ],
   "source": [
    "import keras\n",
    "from keras.models import Sequential\n",
    "from keras.layers import Dense\n",
    "from keras.optimizers import Adam\n",
    "\n",
    "import numpy as np\n",
    "from random import randint   \n",
    "from sklearn.preprocessing import MinMaxScaler"
   ]
  },
  {
   "cell_type": "code",
   "execution_count": 2,
   "metadata": {},
   "outputs": [],
   "source": [
    "train_sample = []    # list of diffrenert people contains age\n",
    "train_label = []    # provide 0 or 1 for vaccination of side-effect\n",
    "\n",
    "for i in range(1000):                   # takes range 1000 for sample & label both, total=2000\n",
    "    younger_ages = randint(13,64)       # we randomly initialize age : range of young people b/w 13 to 64\n",
    "    train_sample.append(younger_ages)\n",
    "    train_label.append(0)               # providing label=0 , bcoz younger people have no side-effect\n",
    "    \n",
    "    older_ages = randint(65,100)         # similarly for older people, age b/w 65 to 100 \n",
    "    train_sample.append(older_ages)      \n",
    "    train_label.append(1)                # provide label=1 \n",
    "    \n",
    "# After running this, we created our dataset. "
   ]
  },
  {
   "cell_type": "code",
   "execution_count": 3,
   "metadata": {},
   "outputs": [],
   "source": [
    "# train_sample\n",
    "# train_label"
   ]
  },
  {
   "cell_type": "code",
   "execution_count": 4,
   "metadata": {},
   "outputs": [
    {
     "data": {
      "text/plain": [
       "array([64, 88, 47, ..., 89, 36, 75])"
      ]
     },
     "execution_count": 4,
     "metadata": {},
     "output_type": "execute_result"
    }
   ],
   "source": [
    "# We need to convert this dataset into numpy array , bcoz keras expect input as numpy array.\n",
    "\n",
    "train_sample = np.array(train_sample)     \n",
    "train_label = np.array(train_label)       \n",
    "\n",
    "train_sample"
   ]
  },
  {
   "cell_type": "code",
   "execution_count": 5,
   "metadata": {},
   "outputs": [
    {
     "name": "stderr",
     "output_type": "stream",
     "text": [
      "C:\\ProgramData\\Anaconda3\\lib\\site-packages\\sklearn\\utils\\validation.py:595: DataConversionWarning: Data with input dtype int32 was converted to float64 by MinMaxScaler.\n",
      "  warnings.warn(msg, DataConversionWarning)\n"
     ]
    }
   ],
   "source": [
    "# Now scaling 'train_sample' numbers bcoz sometime there is much gap b/w them using MinMaxscaler()\n",
    "\n",
    "scaler = MinMaxScaler(feature_range=(0,1))\n",
    "\n",
    "scaler_train_sample = scaler.fit_transform(train_sample.reshape(-1,1))  # when we do scaling, reshape it into 2D for keras"
   ]
  },
  {
   "cell_type": "code",
   "execution_count": 6,
   "metadata": {},
   "outputs": [
    {
     "data": {
      "text/plain": [
       "array([[0.5862069 ],\n",
       "       [0.86206897],\n",
       "       [0.3908046 ],\n",
       "       ...,\n",
       "       [0.87356322],\n",
       "       [0.26436782],\n",
       "       [0.71264368]])"
      ]
     },
     "execution_count": 6,
     "metadata": {},
     "output_type": "execute_result"
    }
   ],
   "source": [
    "scaler_train_sample"
   ]
  },
  {
   "cell_type": "markdown",
   "metadata": {},
   "source": [
    "##### Now create - Artificial Neural Network"
   ]
  },
  {
   "cell_type": "code",
   "execution_count": 7,
   "metadata": {},
   "outputs": [
    {
     "name": "stdout",
     "output_type": "stream",
     "text": [
      "WARNING:tensorflow:From C:\\ProgramData\\Anaconda3\\lib\\site-packages\\tensorflow\\python\\framework\\op_def_library.py:263: colocate_with (from tensorflow.python.framework.ops) is deprecated and will be removed in a future version.\n",
      "Instructions for updating:\n",
      "Colocations handled automatically by placer.\n",
      "_________________________________________________________________\n",
      "Layer (type)                 Output Shape              Param #   \n",
      "=================================================================\n",
      "dense_1 (Dense)              (None, 16)                32        \n",
      "_________________________________________________________________\n",
      "dense_2 (Dense)              (None, 32)                544       \n",
      "_________________________________________________________________\n",
      "dense_3 (Dense)              (None, 2)                 66        \n",
      "=================================================================\n",
      "Total params: 642\n",
      "Trainable params: 642\n",
      "Non-trainable params: 0\n",
      "_________________________________________________________________\n"
     ]
    }
   ],
   "source": [
    "# Now we have the data and also done scaling, \n",
    "# In this Sequential() basically creating feed forward Neural Network\n",
    "\n",
    "# Dense( creating 2 hidden layers) \n",
    "# In 1st hidden layer (16- no. of neurons, input_dim is 1D array, \n",
    "# activation func. used to transfrom input data into weight which we add through bias and \n",
    "# the summation of input feature & weight is actually transfrom 0 to 1) , \n",
    "# layer2-Dense( 32- no. of neurons and same..),\n",
    "# layer3- Dense(2 outputs- 0,1) is for output layer\n",
    "\n",
    "model = Sequential([Dense(16, input_dim=1,activation='relu'),Dense(32,activation='relu'),Dense(2,activation='softmax')])\n",
    "\n",
    "model.summary()"
   ]
  },
  {
   "cell_type": "markdown",
   "metadata": {},
   "source": [
    "### Compile and fit the model"
   ]
  },
  {
   "cell_type": "code",
   "execution_count": 8,
   "metadata": {},
   "outputs": [],
   "source": [
    "# 'Adam' optimizer related to gradient descent which adjust the weights throughout the Neural Network\n",
    "# lr-learning rate (helps to learn the model in gradient descent manner such that weights get adjust in network)\n",
    "# loss= 'sparse categorical crossentropy' - used where output is 2 type classifier 0 or 1.\n",
    "\n",
    "model.compile(Adam(lr=0.001),loss='sparse_categorical_crossentropy',metrics=['accuracy'])"
   ]
  },
  {
   "cell_type": "code",
   "execution_count": 9,
   "metadata": {},
   "outputs": [
    {
     "name": "stdout",
     "output_type": "stream",
     "text": [
      "WARNING:tensorflow:From C:\\ProgramData\\Anaconda3\\lib\\site-packages\\tensorflow\\python\\ops\\math_ops.py:3066: to_int32 (from tensorflow.python.ops.math_ops) is deprecated and will be removed in a future version.\n",
      "Instructions for updating:\n",
      "Use tf.cast instead.\n",
      "Epoch 1/10\n",
      "2000/2000 [==============================] - 1s 466us/step - loss: 0.8807 - acc: 0.5645\n",
      "Epoch 2/10\n",
      "2000/2000 [==============================] - 0s 138us/step - loss: 0.5073 - acc: 0.7675\n",
      "Epoch 3/10\n",
      "2000/2000 [==============================] - 0s 141us/step - loss: 0.4228 - acc: 0.8540\n",
      "Epoch 4/10\n",
      "2000/2000 [==============================] - 0s 156us/step - loss: 0.3607 - acc: 0.8795\n",
      "Epoch 5/10\n",
      "2000/2000 [==============================] - 0s 155us/step - loss: 0.3098 - acc: 0.8975\n",
      "Epoch 6/10\n",
      "2000/2000 [==============================] - 0s 133us/step - loss: 0.2655 - acc: 0.9225\n",
      "Epoch 7/10\n",
      "2000/2000 [==============================] - 0s 162us/step - loss: 0.2498 - acc: 0.9245\n",
      "Epoch 8/10\n",
      "2000/2000 [==============================] - 0s 131us/step - loss: 0.2194 - acc: 0.9320\n",
      "Epoch 9/10\n",
      "2000/2000 [==============================] - 0s 141us/step - loss: 0.2135 - acc: 0.9275\n",
      "Epoch 10/10\n",
      "2000/2000 [==============================] - 0s 138us/step - loss: 0.1799 - acc: 0.9465\n"
     ]
    },
    {
     "data": {
      "text/plain": [
       "<keras.callbacks.History at 0x70c6d1bba8>"
      ]
     },
     "execution_count": 9,
     "metadata": {},
     "output_type": "execute_result"
    }
   ],
   "source": [
    "# 'batch size' used to provide inputs in batch not 1 by 1 so that transformation can quicly takes place \n",
    "# epochs- how many times you iterate through your input features(no. of epochs increase, accuracy also increases).\n",
    "\n",
    "model.fit(train_sample, train_label, batch_size=10, epochs=10)   "
   ]
  },
  {
   "cell_type": "markdown",
   "metadata": {},
   "source": [
    "#### after fitting the model predict -> test_sample , test_label"
   ]
  },
  {
   "cell_type": "code",
   "execution_count": 10,
   "metadata": {},
   "outputs": [],
   "source": [
    "test_sample=[]\n",
    "test_label=[]\n",
    "\n",
    "for i in range(500):                     # taking range 500 for testing purpose\n",
    "    younger_ages = randint(13,64)\n",
    "    test_sample.append(younger_ages)\n",
    "    test_label.append(0)     \n",
    "    \n",
    "    older_ages = randint(65,100)\n",
    "    test_sample.append(older_ages)\n",
    "    test_label.append(1)\n",
    "    \n",
    "test_sample = np.array(test_sample)\n",
    "test_label = np.array(test_label)"
   ]
  },
  {
   "cell_type": "code",
   "execution_count": 11,
   "metadata": {},
   "outputs": [],
   "source": [
    "# test_sample"
   ]
  },
  {
   "cell_type": "code",
   "execution_count": 12,
   "metadata": {},
   "outputs": [],
   "source": [
    "test_sample_output = model.predict_classes(test_sample, batch_size=10)"
   ]
  },
  {
   "cell_type": "code",
   "execution_count": 13,
   "metadata": {},
   "outputs": [],
   "source": [
    "# Next Create- Confusion matrix, it checks how actually your model is performed, \n",
    "# and see what is my true value (test_label) & what is predicted value (test_sample_output)\n",
    "\n",
    "from sklearn.metrics import confusion_matrix, accuracy_score\n",
    "\n",
    "cm = confusion_matrix(test_label,test_sample_output)    # shows what no. of prediction is accurately done\n",
    "acc = accuracy_score(test_label, test_sample_output)"
   ]
  },
  {
   "cell_type": "code",
   "execution_count": 14,
   "metadata": {},
   "outputs": [
    {
     "name": "stdout",
     "output_type": "stream",
     "text": [
      "confusion matrix : \n",
      " [[451  49]\n",
      " [  0 500]]\n",
      "\n",
      "Accuracy score :  95.10%\n"
     ]
    }
   ],
   "source": [
    "print('confusion matrix : \\n', cm)       \n",
    "print(f'\\nAccuracy score : {acc : 0.2%}')"
   ]
  }
 ],
 "metadata": {
  "kernelspec": {
   "display_name": "Python 3",
   "language": "python",
   "name": "python3"
  },
  "language_info": {
   "codemirror_mode": {
    "name": "ipython",
    "version": 3
   },
   "file_extension": ".py",
   "mimetype": "text/x-python",
   "name": "python",
   "nbconvert_exporter": "python",
   "pygments_lexer": "ipython3",
   "version": "3.6.8"
  }
 },
 "nbformat": 4,
 "nbformat_minor": 2
}
