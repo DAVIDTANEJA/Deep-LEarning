{
 "cells": [
  {
   "cell_type": "code",
   "execution_count": 19,
   "metadata": {},
   "outputs": [],
   "source": [
    "from keras.utils import to_categorical, np_utils\n",
    "from keras.models import Sequential, load_model\n",
    "from keras.layers import Dense, Dropout, Flatten, Conv2D, MaxPooling2D\n",
    "from skimage.transform import resize\n",
    "from keras.constraints import maxnorm\n",
    "from keras.optimizers import SGD, Adam\n",
    "import matplotlib.pyplot as plt\n",
    "%matplotlib inline\n",
    "import tensorflow as tf\n",
    "\n",
    "from keras.models import load_model\n",
    "import numpy as np \n",
    "from keras.preprocessing import image"
   ]
  },
  {
   "cell_type": "markdown",
   "metadata": {},
   "source": [
    "#### load the data "
   ]
  },
  {
   "cell_type": "code",
   "execution_count": 20,
   "metadata": {},
   "outputs": [],
   "source": [
    "cifar = tf.keras.datasets.cifar10        # loading the dataset 'cifar10',   1 time run\n",
    "(x_train, y_train), (x_test, y_test) = cifar.load_data()\n",
    "\n",
    "# htload_datas://github.com/keras-team/keras/tree/master/keras/datasets"
   ]
  },
  {
   "cell_type": "code",
   "execution_count": 21,
   "metadata": {},
   "outputs": [
    {
     "data": {
      "text/plain": [
       "numpy.ndarray"
      ]
     },
     "execution_count": 21,
     "metadata": {},
     "output_type": "execute_result"
    }
   ],
   "source": [
    "type(x_train)               # 'x' has the image and 'y' has the label"
   ]
  },
  {
   "cell_type": "code",
   "execution_count": 22,
   "metadata": {},
   "outputs": [
    {
     "data": {
      "text/plain": [
       "(50000, 32, 32, 3)"
      ]
     },
     "execution_count": 22,
     "metadata": {},
     "output_type": "execute_result"
    }
   ],
   "source": [
    "x_train.shape"
   ]
  },
  {
   "cell_type": "code",
   "execution_count": 23,
   "metadata": {},
   "outputs": [
    {
     "data": {
      "image/png": "[encoded data removed]",
      "text/plain": [
       "<Figure size 432x288 with 1 Axes>"
      ]
     },
     "metadata": {
      "needs_background": "light"
     },
     "output_type": "display_data"
    }
   ],
   "source": [
    "# show image\n",
    "\n",
    "img = plt.imshow(x_train[0])        # frog"
   ]
  },
  {
   "cell_type": "code",
   "execution_count": 24,
   "metadata": {},
   "outputs": [
    {
     "name": "stdout",
     "output_type": "stream",
     "text": [
      "label is :  [6]\n"
     ]
    }
   ],
   "source": [
    "print('label is : ', y_train[0])       # dataset has 10 different labels 0 to 9"
   ]
  },
  {
   "cell_type": "markdown",
   "metadata": {},
   "source": [
    "##### One hot encoding"
   ]
  },
  {
   "cell_type": "code",
   "execution_count": 25,
   "metadata": {},
   "outputs": [],
   "source": [
    "# convert the labels into set of numbers 10 digits (one hot encoding) of 'y_train' and 'y_test'  sets\n",
    "\n",
    "y_train = to_categorical(y_train)    # np_utils.to_categorical(y_train)\n",
    "y_test = to_categorical(y_test)      # np_utils.to_categorical(y_train)"
   ]
  },
  {
   "cell_type": "code",
   "execution_count": 26,
   "metadata": {},
   "outputs": [
    {
     "name": "stdout",
     "output_type": "stream",
     "text": [
      "One hot encoding label :  [0. 0. 0. 0. 0. 0. 1. 0. 0. 0.]\n"
     ]
    }
   ],
   "source": [
    "# Now print the same label\n",
    "\n",
    "print('One hot encoding label : ', y_train_one[0])  \n",
    "num_classes = y_test.shape[1]"
   ]
  },
  {
   "cell_type": "markdown",
   "metadata": {},
   "source": [
    "##### Normalization "
   ]
  },
  {
   "cell_type": "code",
   "execution_count": 27,
   "metadata": {},
   "outputs": [],
   "source": [
    "# Normalize the pixels of images b/w  0 and 1  'x_train', 'x_test' set  ,  from 0-255 to 0.0-1.0\n",
    "\n",
    "x_train = x_train.astype('float32') \n",
    "x_test = x_test.astype('float32')\n",
    "x_train = x_train/255.0\n",
    "x_test = x_test/255.0"
   ]
  },
  {
   "cell_type": "markdown",
   "metadata": {},
   "source": [
    "##### Build the model"
   ]
  },
  {
   "cell_type": "code",
   "execution_count": 29,
   "metadata": {},
   "outputs": [],
   "source": [
    "model = Sequential()   # create architecture\n",
    "\n",
    "# CNN layer 2D\n",
    "model.add(Conv2D(32, (3, 3), input_shape=(32,32,3), activation='relu', padding='same')) \n",
    "model.add(Dropout(0.2)) \n",
    "\n",
    "model.add(Conv2D(32, (3, 3), activation='relu', padding='same')) \n",
    "# maxpooling layer , pool_size is like if we give image 32x32 it create into 16x16\n",
    "model.add(MaxPooling2D(pool_size=(2, 2))) \n",
    "\n",
    "# again create CNN and maxpooling layer\n",
    "model.add(Conv2D(64, (3, 3), activation='relu', padding='same')) \n",
    "model.add(Dropout(0.2)) \n",
    "model.add(Conv2D(64, (3, 3), activation='relu', padding='same')) \n",
    "model.add(MaxPooling2D(pool_size=(2, 2))) \n",
    "model.add(Conv2D(128, (3, 3), activation='relu', padding='same')) \n",
    "model.add(Dropout(0.2)) \n",
    "model.add(Conv2D(128, (3, 3), activation='relu', padding='same')) \n",
    "model.add(MaxPooling2D(pool_size=(2, 2))) \n",
    "\n",
    "# flatten layer, flatten is making a image 1D array/vector\n",
    "model.add(Flatten()) \n",
    "model.add(Dropout(0.2)) \n",
    "\n",
    "model.add(Dense(1024, activation='relu', kernel_constraint=maxnorm(3))) \n",
    "model.add(Dropout(0.2)) \n",
    "model.add(Dense(512, activation='relu', kernel_constraint=maxnorm(3))) \n",
    "model.add(Dropout(0.2)) \n",
    "model.add(Dense(num_classes, activation='softmax'))"
   ]
  },
  {
   "cell_type": "markdown",
   "metadata": {},
   "source": [
    "##### Conv2D : 2-dimensional convolutional layer.\n",
    "32 is the number of filters needed. A filter is an array of numeric values.                                              \n",
    "(3,3) is the size of the filter, which means 3 rows and 3 columns.                                                         \n",
    "input image is 32*32*3 size (32 height, 32 widths, and 3 refer to RGB values)                                               \n",
    "The output of this layer will be some feature maps. A feature map is a map that shows some specific features of the image.    \n",
    "Dropout layer in our model to prevent overfitting.                                                                          \n",
    "MaxPooling layer : used for pooling, reduces the dimensionality of each feature map but retains the important information.   \n",
    "activation function : of a neuron defines the output of that neuron, given some input.                                      \n",
    "This output is then used as input for the next neuron and so on until the desired solution is obtained.                      \n",
    "ReLU replaces all the negative pixel values in the feature map with 0.                                                       \n",
    "Softmax takes as input a vector of K real numbers and normalizes it into a probability distribution consisting of K        pobabilities proportional to the exponentials of the input numbers. "
   ]
  },
  {
   "cell_type": "code",
   "execution_count": 30,
   "metadata": {},
   "outputs": [
    {
     "name": "stdout",
     "output_type": "stream",
     "text": [
      "_________________________________________________________________\n",
      "Layer (type)                 Output Shape              Param #   \n",
      "=================================================================\n",
      "conv2d_19 (Conv2D)           (None, 32, 32, 32)        896       \n",
      "_________________________________________________________________\n",
      "dropout_18 (Dropout)         (None, 32, 32, 32)        0         \n",
      "_________________________________________________________________\n",
      "conv2d_20 (Conv2D)           (None, 32, 32, 32)        9248      \n",
      "_________________________________________________________________\n",
      "max_pooling2d_10 (MaxPooling (None, 16, 16, 32)        0         \n",
      "_________________________________________________________________\n",
      "conv2d_21 (Conv2D)           (None, 16, 16, 64)        18496     \n",
      "_________________________________________________________________\n",
      "dropout_19 (Dropout)         (None, 16, 16, 64)        0         \n",
      "_________________________________________________________________\n",
      "conv2d_22 (Conv2D)           (None, 16, 16, 64)        36928     \n",
      "_________________________________________________________________\n",
      "max_pooling2d_11 (MaxPooling (None, 8, 8, 64)          0         \n",
      "_________________________________________________________________\n",
      "conv2d_23 (Conv2D)           (None, 8, 8, 128)         73856     \n",
      "_________________________________________________________________\n",
      "dropout_20 (Dropout)         (None, 8, 8, 128)         0         \n",
      "_________________________________________________________________\n",
      "conv2d_24 (Conv2D)           (None, 8, 8, 128)         147584    \n",
      "_________________________________________________________________\n",
      "max_pooling2d_12 (MaxPooling (None, 4, 4, 128)         0         \n",
      "_________________________________________________________________\n",
      "flatten_4 (Flatten)          (None, 2048)              0         \n",
      "_________________________________________________________________\n",
      "dropout_21 (Dropout)         (None, 2048)              0         \n",
      "_________________________________________________________________\n",
      "dense_8 (Dense)              (None, 1024)              2098176   \n",
      "_________________________________________________________________\n",
      "dropout_22 (Dropout)         (None, 1024)              0         \n",
      "_________________________________________________________________\n",
      "dense_9 (Dense)              (None, 512)               524800    \n",
      "_________________________________________________________________\n",
      "dropout_23 (Dropout)         (None, 512)               0         \n",
      "_________________________________________________________________\n",
      "dense_10 (Dense)             (None, 10)                5130      \n",
      "=================================================================\n",
      "Total params: 2,915,114\n",
      "Trainable params: 2,915,114\n",
      "Non-trainable params: 0\n",
      "_________________________________________________________________\n",
      "None\n"
     ]
    }
   ],
   "source": [
    "print(model.summary())"
   ]
  },
  {
   "cell_type": "markdown",
   "metadata": {},
   "source": [
    "#### compile the model"
   ]
  },
  {
   "cell_type": "code",
   "execution_count": 32,
   "metadata": {},
   "outputs": [],
   "source": [
    "lrate = 0.01 \n",
    "sgd = SGD(lr=lrate, momentum=0.9, nesterov=False) \n",
    "model.compile(loss='categorical_crossentropy', optimizer=sgd, metrics=['accuracy'])\n",
    "\n",
    "# model.compile(loss='categorical_crossentropy', optimizer='adam', metrics=['accuracy'])  "
   ]
  },
  {
   "cell_type": "markdown",
   "metadata": {},
   "source": [
    "##### Train / fit the model "
   ]
  },
  {
   "cell_type": "code",
   "execution_count": 33,
   "metadata": {
    "scrolled": true
   },
   "outputs": [
    {
     "name": "stderr",
     "output_type": "stream",
     "text": [
      "W0223 12:22:58.186407  3172 deprecation.py:323] From C:\\ProgramData\\Anaconda3\\lib\\site-packages\\tensorflow\\python\\ops\\math_grad.py:1250: add_dispatch_support.<locals>.wrapper (from tensorflow.python.ops.array_ops) is deprecated and will be removed in a future version.\n",
      "Instructions for updating:\n",
      "Use tf.where in 2.0, which has the same broadcast rule as np.where\n"
     ]
    },
    {
     "name": "stdout",
     "output_type": "stream",
     "text": [
      "Train on 50000 samples, validate on 10000 samples\n",
      "Epoch 1/10\n",
      "50000/50000 [==============================] - 2091s 42ms/step - loss: 1.8766 - acc: 0.3031 - val_loss: 1.5961 - val_acc: 0.4288\n",
      "Epoch 2/10\n",
      "50000/50000 [==============================] - 2323s 46ms/step - loss: 1.4251 - acc: 0.4837 - val_loss: 1.2467 - val_acc: 0.5486\n",
      "Epoch 3/10\n",
      "50000/50000 [==============================] - 1426s 29ms/step - loss: 1.1944 - acc: 0.5716 - val_loss: 1.0140 - val_acc: 0.6420\n",
      "Epoch 4/10\n",
      "50000/50000 [==============================] - 1343s 27ms/step - loss: 1.0363 - acc: 0.6345 - val_loss: 0.9800 - val_acc: 0.6524\n",
      "Epoch 5/10\n",
      "50000/50000 [==============================] - 1967s 39ms/step - loss: 0.9198 - acc: 0.6748 - val_loss: 0.8686 - val_acc: 0.6978\n",
      "Epoch 6/10\n",
      "50000/50000 [==============================] - 2023s 40ms/step - loss: 0.8352 - acc: 0.7060 - val_loss: 0.8188 - val_acc: 0.7204\n",
      "Epoch 7/10\n",
      "50000/50000 [==============================] - 1623s 32ms/step - loss: 0.7719 - acc: 0.7292 - val_loss: 0.7575 - val_acc: 0.7396\n",
      "Epoch 8/10\n",
      "50000/50000 [==============================] - 2272s 45ms/step - loss: 0.7250 - acc: 0.7473 - val_loss: 0.7672 - val_acc: 0.7305\n",
      "Epoch 9/10\n",
      "50000/50000 [==============================] - 2080s 42ms/step - loss: 0.6783 - acc: 0.7631 - val_loss: 0.7319 - val_acc: 0.7462\n",
      "Epoch 10/10\n",
      "   96/50000 [..............................] - ETA: 3:15:46 - loss: 0.7364 - acc: 0.7917"
     ]
    },
    {
     "name": "stderr",
     "output_type": "stream",
     "text": [
      "C:\\ProgramData\\Anaconda3\\lib\\site-packages\\keras\\callbacks.py:122: UserWarning: Method on_batch_end() is slow compared to the batch update (0.767182). Check your callbacks.\n",
      "  % delta_t_median)\n"
     ]
    },
    {
     "name": "stdout",
     "output_type": "stream",
     "text": [
      "50000/50000 [==============================] - 2345s 47ms/step - loss: 0.6444 - acc: 0.7764 - val_loss: 0.7434 - val_acc: 0.7521\n"
     ]
    }
   ],
   "source": [
    "hist = model.fit(x_train, y_train, batch_size=32, epochs=10, validation_data=(x_test,y_test))  # validation_split=0.3"
   ]
  },
  {
   "cell_type": "markdown",
   "metadata": {},
   "source": [
    "##### evaluation of the model"
   ]
  },
  {
   "cell_type": "code",
   "execution_count": 37,
   "metadata": {},
   "outputs": [
    {
     "name": "stdout",
     "output_type": "stream",
     "text": [
      "Accuracy :  75.21%\n"
     ]
    }
   ],
   "source": [
    "# get the model accuracy\n",
    "score = model.evaluate(x_test, y_test, verbose=0)\n",
    "print(f\"Accuracy : {score[1] : 0.2%}\")\n",
    "\n",
    "# model.evaluate(x_test, y_test)[1]"
   ]
  },
  {
   "cell_type": "code",
   "execution_count": 38,
   "metadata": {},
   "outputs": [
    {
     "data": {
      "image/png": "[encoded data removed]",
      "text/plain": [
       "<Figure size 432x288 with 1 Axes>"
      ]
     },
     "metadata": {
      "needs_background": "light"
     },
     "output_type": "display_data"
    }
   ],
   "source": [
    "# visualize the models accuracy\n",
    "\n",
    "plt.plot(hist.history['acc'])       # accuracy on the training data\n",
    "plt.plot(hist.history['val_acc'])   #  validation accuracy\n",
    "\n",
    "plt.title('Model accuracy')\n",
    "plt.xlabel('Epoch')\n",
    "plt.ylabel('Accuracy')\n",
    "plt.legend(['Train', 'Val.'], loc='best')\n",
    "plt.show()"
   ]
  },
  {
   "cell_type": "code",
   "execution_count": 39,
   "metadata": {},
   "outputs": [
    {
     "data": {
      "image/png": "[encoded data removed]",
      "text/plain": [
       "<Figure size 432x288 with 1 Axes>"
      ]
     },
     "metadata": {
      "needs_background": "light"
     },
     "output_type": "display_data"
    }
   ],
   "source": [
    "# visualize the models loss\n",
    "\n",
    "plt.plot(hist.history['loss'])       # accuracy on the training data\n",
    "plt.plot(hist.history['val_loss'])   #  validation accuracy\n",
    "\n",
    "plt.title('Model loss')\n",
    "plt.xlabel('Epoch')\n",
    "plt.ylabel('Loss')\n",
    "plt.legend(['Train', 'Val.'], loc='best')\n",
    "plt.show()"
   ]
  },
  {
   "cell_type": "markdown",
   "metadata": {},
   "source": [
    "#### save the model"
   ]
  },
  {
   "cell_type": "code",
   "execution_count": 40,
   "metadata": {},
   "outputs": [],
   "source": [
    "from keras.models import load_model\n",
    "\n",
    "model.save('project_model.h5')"
   ]
  },
  {
   "cell_type": "markdown",
   "metadata": {},
   "source": [
    "##### It creates an HDF5 file with the name 'project_model'  and extension '.h5'.  Hierarchical Data Format (HDF) is a set of file formats (HDF4, HDF5) designed to store and organize large amounts of data."
   ]
  },
  {
   "cell_type": "markdown",
   "metadata": {},
   "source": [
    "#### Load the model"
   ]
  },
  {
   "cell_type": "code",
   "execution_count": 41,
   "metadata": {},
   "outputs": [],
   "source": [
    "model = load_model('project_model.h5')"
   ]
  },
  {
   "cell_type": "markdown",
   "metadata": {},
   "source": [
    "## -----------------"
   ]
  },
  {
   "cell_type": "markdown",
   "metadata": {},
   "source": [
    "#### Testing the Model with some random input images"
   ]
  },
  {
   "cell_type": "markdown",
   "metadata": {},
   "source": [
    "##### load the data image"
   ]
  },
  {
   "cell_type": "code",
   "execution_count": 59,
   "metadata": {},
   "outputs": [],
   "source": [
    "import numpy as np \n",
    "from keras.preprocessing import image\n",
    "\n",
    "test_image = image.load_img('c1.jpg', target_size=(32,32))"
   ]
  },
  {
   "cell_type": "code",
   "execution_count": 60,
   "metadata": {},
   "outputs": [
    {
     "data": {
      "text/plain": [
       "<matplotlib.image.AxesImage at 0xe4ba6b14e0>"
      ]
     },
     "execution_count": 60,
     "metadata": {},
     "output_type": "execute_result"
    },
    {
     "data": {
      "image/png": "[encoded data removed]",
      "text/plain": [
       "<Figure size 432x288 with 1 Axes>"
      ]
     },
     "metadata": {
      "needs_background": "light"
     },
     "output_type": "display_data"
    }
   ],
   "source": [
    "%matplotlib inline \n",
    "import matplotlib.pyplot as plt  \n",
    "\n",
    "plt.imshow(test_image)                   # 32x32 image"
   ]
  },
  {
   "cell_type": "code",
   "execution_count": 61,
   "metadata": {},
   "outputs": [
    {
     "name": "stdout",
     "output_type": "stream",
     "text": [
      "[[0. 1. 0. 0. 0. 0. 0. 0. 0. 0.]]\n"
     ]
    }
   ],
   "source": [
    "test_image =image.img_to_array(test_image) \n",
    "test_image =np.expand_dims(test_image, axis =0) \n",
    "result = model.predict(test_image) \n",
    "print(result)"
   ]
  },
  {
   "cell_type": "code",
   "execution_count": 62,
   "metadata": {},
   "outputs": [
    {
     "name": "stdout",
     "output_type": "stream",
     "text": [
      "Automobile\n"
     ]
    }
   ],
   "source": [
    "if result[0][0]==1: \n",
    "    print(\"Aeroplane\") \n",
    "elif result[0][1]==1: \n",
    "    print('Automobile') \n",
    "elif result[0][2]==1: \n",
    "    print('Bird') \n",
    "elif result[0][3]==1: \n",
    "    print('Cat') \n",
    "elif result[0][4]==1: \n",
    "    print('Deer') \n",
    "elif result[0][5]==1: \n",
    "    print('Dog') \n",
    "elif result[0][6]==1: \n",
    "    print('Frog') \n",
    "elif result[0][7]==1: \n",
    "    print('Horse') \n",
    "elif result[0][8]==1: \n",
    "    print('Ship') \n",
    "elif result[0][9]==1: \n",
    "    print('Truck') \n",
    "else: \n",
    "    print('Error')"
   ]
  },
  {
   "cell_type": "code",
   "execution_count": null,
   "metadata": {},
   "outputs": [],
   "source": []
  }
 ],
 "metadata": {
  "kernelspec": {
   "display_name": "Python 3",
   "language": "python",
   "name": "python3"
  },
  "language_info": {
   "codemirror_mode": {
    "name": "ipython",
    "version": 3
   },
   "file_extension": ".py",
   "mimetype": "text/x-python",
   "name": "python",
   "nbconvert_exporter": "python",
   "pygments_lexer": "ipython3",
   "version": "3.6.8"
  }
 },
 "nbformat": 4,
 "nbformat_minor": 2
}
