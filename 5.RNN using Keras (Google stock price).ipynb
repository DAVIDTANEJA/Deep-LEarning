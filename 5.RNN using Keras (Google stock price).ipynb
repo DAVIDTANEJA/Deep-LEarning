{
 "cells": [
  {
   "cell_type": "markdown",
   "metadata": {},
   "source": [
    "## RNN - Google Stock Price"
   ]
  },
  {
   "cell_type": "code",
   "execution_count": 53,
   "metadata": {},
   "outputs": [],
   "source": [
    "import pandas as pd\n",
    "import numpy as np\n",
    "import matplotlib.pyplot as plt\n",
    "%matplotlib inline"
   ]
  },
  {
   "cell_type": "code",
   "execution_count": 54,
   "metadata": {},
   "outputs": [
    {
     "data": {
      "text/html": [
       "<div>\n",
       "<style scoped>\n",
       "    .dataframe tbody tr th:only-of-type {\n",
       "        vertical-align: middle;\n",
       "    }\n",
       "\n",
       "    .dataframe tbody tr th {\n",
       "        vertical-align: top;\n",
       "    }\n",
       "\n",
       "    .dataframe thead th {\n",
       "        text-align: right;\n",
       "    }\n",
       "</style>\n",
       "<table border=\"1\" class=\"dataframe\">\n",
       "  <thead>\n",
       "    <tr style=\"text-align: right;\">\n",
       "      <th></th>\n",
       "      <th>date</th>\n",
       "      <th>close</th>\n",
       "      <th>volume</th>\n",
       "      <th>open</th>\n",
       "      <th>high</th>\n",
       "      <th>low</th>\n",
       "    </tr>\n",
       "  </thead>\n",
       "  <tbody>\n",
       "    <tr>\n",
       "      <th>0</th>\n",
       "      <td>2019/07/05</td>\n",
       "      <td>1131.59</td>\n",
       "      <td>1264540.0</td>\n",
       "      <td>1117.80</td>\n",
       "      <td>1132.88</td>\n",
       "      <td>1116.140</td>\n",
       "    </tr>\n",
       "    <tr>\n",
       "      <th>1</th>\n",
       "      <td>2019/07/03</td>\n",
       "      <td>1121.58</td>\n",
       "      <td>767011.0</td>\n",
       "      <td>1117.41</td>\n",
       "      <td>1126.76</td>\n",
       "      <td>1113.860</td>\n",
       "    </tr>\n",
       "    <tr>\n",
       "      <th>2</th>\n",
       "      <td>2019/07/02</td>\n",
       "      <td>1111.25</td>\n",
       "      <td>991755.0</td>\n",
       "      <td>1102.24</td>\n",
       "      <td>1111.77</td>\n",
       "      <td>1098.170</td>\n",
       "    </tr>\n",
       "    <tr>\n",
       "      <th>3</th>\n",
       "      <td>2019/07/01</td>\n",
       "      <td>1097.95</td>\n",
       "      <td>1438504.0</td>\n",
       "      <td>1098.00</td>\n",
       "      <td>1107.58</td>\n",
       "      <td>1093.703</td>\n",
       "    </tr>\n",
       "    <tr>\n",
       "      <th>4</th>\n",
       "      <td>2019/06/28</td>\n",
       "      <td>1080.91</td>\n",
       "      <td>1693450.0</td>\n",
       "      <td>1076.39</td>\n",
       "      <td>1081.00</td>\n",
       "      <td>1073.370</td>\n",
       "    </tr>\n",
       "  </tbody>\n",
       "</table>\n",
       "</div>"
      ],
      "text/plain": [
       "         date    close     volume     open     high       low\n",
       "0  2019/07/05  1131.59  1264540.0  1117.80  1132.88  1116.140\n",
       "1  2019/07/03  1121.58   767011.0  1117.41  1126.76  1113.860\n",
       "2  2019/07/02  1111.25   991755.0  1102.24  1111.77  1098.170\n",
       "3  2019/07/01  1097.95  1438504.0  1098.00  1107.58  1093.703\n",
       "4  2019/06/28  1080.91  1693450.0  1076.39  1081.00  1073.370"
      ]
     },
     "execution_count": 54,
     "metadata": {},
     "output_type": "execute_result"
    }
   ],
   "source": [
    "stock_data = pd.read_csv('google2014to2019.csv', skiprows=[1])         # download the dataset from google\n",
    "stock_data.head()"
   ]
  },
  {
   "cell_type": "code",
   "execution_count": 55,
   "metadata": {},
   "outputs": [],
   "source": [
    "stock_data['volume'] = stock_data['volume'].astype(np.int64)"
   ]
  },
  {
   "cell_type": "code",
   "execution_count": 56,
   "metadata": {},
   "outputs": [
    {
     "name": "stdout",
     "output_type": "stream",
     "text": [
      "<class 'pandas.core.frame.DataFrame'>\n",
      "RangeIndex: 1259 entries, 0 to 1258\n",
      "Data columns (total 6 columns):\n",
      "date      1259 non-null object\n",
      "close     1259 non-null float64\n",
      "volume    1259 non-null int64\n",
      "open      1259 non-null float64\n",
      "high      1259 non-null float64\n",
      "low       1259 non-null float64\n",
      "dtypes: float64(4), int64(1), object(1)\n",
      "memory usage: 59.1+ KB\n"
     ]
    }
   ],
   "source": [
    "stock_data.info()"
   ]
  },
  {
   "cell_type": "code",
   "execution_count": 57,
   "metadata": {},
   "outputs": [
    {
     "data": {
      "text/html": [
       "<div>\n",
       "<style scoped>\n",
       "    .dataframe tbody tr th:only-of-type {\n",
       "        vertical-align: middle;\n",
       "    }\n",
       "\n",
       "    .dataframe tbody tr th {\n",
       "        vertical-align: top;\n",
       "    }\n",
       "\n",
       "    .dataframe thead th {\n",
       "        text-align: right;\n",
       "    }\n",
       "</style>\n",
       "<table border=\"1\" class=\"dataframe\">\n",
       "  <thead>\n",
       "    <tr style=\"text-align: right;\">\n",
       "      <th></th>\n",
       "      <th>date</th>\n",
       "      <th>close</th>\n",
       "      <th>volume</th>\n",
       "      <th>open</th>\n",
       "      <th>high</th>\n",
       "      <th>low</th>\n",
       "      <th>average</th>\n",
       "    </tr>\n",
       "  </thead>\n",
       "  <tbody>\n",
       "    <tr>\n",
       "      <th>0</th>\n",
       "      <td>2019/07/05</td>\n",
       "      <td>1131.59</td>\n",
       "      <td>1264540</td>\n",
       "      <td>1117.80</td>\n",
       "      <td>1132.88</td>\n",
       "      <td>1116.140</td>\n",
       "      <td>1124.5100</td>\n",
       "    </tr>\n",
       "    <tr>\n",
       "      <th>1</th>\n",
       "      <td>2019/07/03</td>\n",
       "      <td>1121.58</td>\n",
       "      <td>767011</td>\n",
       "      <td>1117.41</td>\n",
       "      <td>1126.76</td>\n",
       "      <td>1113.860</td>\n",
       "      <td>1120.3100</td>\n",
       "    </tr>\n",
       "    <tr>\n",
       "      <th>2</th>\n",
       "      <td>2019/07/02</td>\n",
       "      <td>1111.25</td>\n",
       "      <td>991755</td>\n",
       "      <td>1102.24</td>\n",
       "      <td>1111.77</td>\n",
       "      <td>1098.170</td>\n",
       "      <td>1104.9700</td>\n",
       "    </tr>\n",
       "    <tr>\n",
       "      <th>3</th>\n",
       "      <td>2019/07/01</td>\n",
       "      <td>1097.95</td>\n",
       "      <td>1438504</td>\n",
       "      <td>1098.00</td>\n",
       "      <td>1107.58</td>\n",
       "      <td>1093.703</td>\n",
       "      <td>1100.6415</td>\n",
       "    </tr>\n",
       "    <tr>\n",
       "      <th>4</th>\n",
       "      <td>2019/06/28</td>\n",
       "      <td>1080.91</td>\n",
       "      <td>1693450</td>\n",
       "      <td>1076.39</td>\n",
       "      <td>1081.00</td>\n",
       "      <td>1073.370</td>\n",
       "      <td>1077.1850</td>\n",
       "    </tr>\n",
       "  </tbody>\n",
       "</table>\n",
       "</div>"
      ],
      "text/plain": [
       "         date    close   volume     open     high       low    average\n",
       "0  2019/07/05  1131.59  1264540  1117.80  1132.88  1116.140  1124.5100\n",
       "1  2019/07/03  1121.58   767011  1117.41  1126.76  1113.860  1120.3100\n",
       "2  2019/07/02  1111.25   991755  1102.24  1111.77  1098.170  1104.9700\n",
       "3  2019/07/01  1097.95  1438504  1098.00  1107.58  1093.703  1100.6415\n",
       "4  2019/06/28  1080.91  1693450  1076.39  1081.00  1073.370  1077.1850"
      ]
     },
     "execution_count": 57,
     "metadata": {},
     "output_type": "execute_result"
    }
   ],
   "source": [
    "# taking the average of the 'low' and 'high' of the Google stock for the day\n",
    "\n",
    "import math\n",
    "\n",
    "stock_data['average'] = (stock_data['high'] + stock_data['low']) / 2\n",
    "stock_data.head()"
   ]
  },
  {
   "cell_type": "code",
   "execution_count": 58,
   "metadata": {},
   "outputs": [],
   "source": [
    "# Let's take 'average' and 'volume' as our input_data to predict the stock prices.\n",
    "\n",
    "input_feature = stock_data.iloc[:, [2,6]].values        # 1st we have 'volume' and 2nd 'average'\n",
    "input_data = input_feature"
   ]
  },
  {
   "cell_type": "code",
   "execution_count": 61,
   "metadata": {},
   "outputs": [
    {
     "data": {
      "text/plain": [
       "Text(0, 0.5, 'Volume of Stocks traded')"
      ]
     },
     "execution_count": 61,
     "metadata": {},
     "output_type": "execute_result"
    },
    {
     "data": {
      "image/png": "[encoded data removed]",
      "text/plain": [
       "<Figure size 432x288 with 1 Axes>"
      ]
     },
     "metadata": {
      "needs_background": "light"
     },
     "output_type": "display_data"
    }
   ],
   "source": [
    "# plot map\n",
    "plt.plot(input_feature[:,0])               # 'Volume'\n",
    "plt.title('Volume of stocks sold')\n",
    "plt.xlabel('Time')\n",
    "plt.ylabel('Volume of Stocks traded')"
   ]
  },
  {
   "cell_type": "code",
   "execution_count": 62,
   "metadata": {},
   "outputs": [
    {
     "data": {
      "text/plain": [
       "Text(0, 0.5, 'Stock Opening Price')"
      ]
     },
     "execution_count": 62,
     "metadata": {},
     "output_type": "execute_result"
    },
    {
     "data": {
      "image/png": "[encoded data removed]",
      "text/plain": [
       "<Figure size 432x288 with 1 Axes>"
      ]
     },
     "metadata": {
      "needs_background": "light"
     },
     "output_type": "display_data"
    }
   ],
   "source": [
    "plt.plot(input_feature[:,1])               # 'average'\n",
    "plt.title('Google Stock Prices')\n",
    "plt.xlabel('Time')\n",
    "plt.ylabel('Stock Opening Price')"
   ]
  },
  {
   "cell_type": "code",
   "execution_count": 65,
   "metadata": {},
   "outputs": [],
   "source": [
    "# Normalizing the input data using MinMaxScaler so that all the input features are on the scale from 0 to 1\n",
    "\n",
    "from sklearn.preprocessing import MinMaxScaler\n",
    "\n",
    "sc = MinMaxScaler(feature_range=(0,1))\n",
    "input_data[:,0:2] = sc.fit_transform(input_feature[:,:])"
   ]
  },
  {
   "cell_type": "code",
   "execution_count": null,
   "metadata": {},
   "outputs": [],
   "source": [
    "-This is a time series problem. If we need to predict the Google stock prices correctly \n",
    "then we need to consider the volume as well as the average stock prices from previous days.\n",
    "\n",
    "-We will be creating the data that will go back to 50 business days in past for the prediction.\n",
    "-Also, we will take 30 % of the latest data as our test dataset.\n",
    "-For RNN LSTM to predict the data we need to convert the input data.\n",
    "-The time series data for today should contain the [Volume of stocks traded, Average stock price] \n",
    "for past 50 days and the target variable will be Google’s stock price today and so on.\n",
    "\n",
    "-As the stock price prediction is based on multiple input features, it is a multivariate regression problem.\n",
    "-We loop through all the samples and for each day we go back 50 business days in the past \n",
    "and add the volume of the stocks traded an average stock price."
   ]
  },
  {
   "cell_type": "code",
   "execution_count": 82,
   "metadata": {},
   "outputs": [],
   "source": [
    "lookback = 50\n",
    "\n",
    "test_size=int(.3 * len(stock_data))    # taking 30 % of the latest data as our test dataset.\n",
    "\n",
    "X = []\n",
    "y = []\n",
    "for i in range(len(stock_data)-lookback-1):\n",
    "    t=[]                                               # t : timesteps\n",
    "    for j in range(0, lookback):\n",
    "        t.append(input_data[[(i+j)], :])\n",
    "    \n",
    "    X.append(t)\n",
    "    y.append(input_data[i + lookback, 1])"
   ]
  },
  {
   "cell_type": "code",
   "execution_count": 87,
   "metadata": {},
   "outputs": [
    {
     "name": "stdout",
     "output_type": "stream",
     "text": [
      "(1208, 50, 2)\n",
      "(427, 50, 2)\n"
     ]
    }
   ],
   "source": [
    "# LSTM expects the input data in a specific 3D format of test batch(sample) size, time steps, no. of input features.\n",
    "# In our case timesteps is 50, number of input features is 2(volume of stocks traded and the average stock price).\n",
    "# We can transform the input data into LSTM’s expected structure using --> numpy.reshape()\n",
    "\n",
    "X, y = np.array(X), np.array(y)\n",
    "\n",
    "X_test = X[: test_size+lookback]\n",
    "\n",
    "X = X.reshape(X.shape[0], lookback, 2)                 # training         # batch_size, timesteps, input_dim         \n",
    "X_test = X_test.reshape(X_test.shape[0], lookback, 2)  # testing \n",
    "\n",
    "print(X.shape)\n",
    "print(X_test.shape)"
   ]
  },
  {
   "cell_type": "markdown",
   "metadata": {},
   "source": [
    "### Our data is now ready and we can build the RNN LSTM model and fit the data."
   ]
  },
  {
   "cell_type": "code",
   "execution_count": 88,
   "metadata": {},
   "outputs": [],
   "source": [
    "from keras.models import Sequential\n",
    "from keras.layers import Dense, LSTM, Dropout"
   ]
  },
  {
   "cell_type": "markdown",
   "metadata": {},
   "source": [
    "##### We add 30 RNN cells that will be stacked one after the other in the RNN, implementing an efficient stacked RNN.\n",
    "##### return_sequences = True , to return the last output in the output sequence.\n",
    "##### input_shape - will be of the 3D format of test sample size, time steps, no. of input features."
   ]
  },
  {
   "cell_type": "code",
   "execution_count": 89,
   "metadata": {},
   "outputs": [
    {
     "name": "stdout",
     "output_type": "stream",
     "text": [
      "_________________________________________________________________\n",
      "Layer (type)                 Output Shape              Param #   \n",
      "=================================================================\n",
      "lstm_7 (LSTM)                (None, 50, 30)            3960      \n",
      "_________________________________________________________________\n",
      "lstm_8 (LSTM)                (None, 50, 30)            7320      \n",
      "_________________________________________________________________\n",
      "lstm_9 (LSTM)                (None, 30)                7320      \n",
      "_________________________________________________________________\n",
      "dense_3 (Dense)              (None, 1)                 31        \n",
      "=================================================================\n",
      "Total params: 18,631\n",
      "Trainable params: 18,631\n",
      "Non-trainable params: 0\n",
      "_________________________________________________________________\n"
     ]
    }
   ],
   "source": [
    "model = Sequential()\n",
    "\n",
    "model.add(LSTM(units=30, return_sequences=True, input_shape=(X.shape[1],2)))\n",
    "model.add(LSTM(units=30, return_sequences=True))\n",
    "model.add(LSTM(units=30))\n",
    "\n",
    "model.add(Dense(units=1))  \n",
    "\n",
    "model.summary()"
   ]
  },
  {
   "cell_type": "code",
   "execution_count": 95,
   "metadata": {},
   "outputs": [
    {
     "name": "stdout",
     "output_type": "stream",
     "text": [
      "Epoch 1/20\n",
      "1208/1208 [==============================] - 16s 13ms/step - loss: 0.0031 - acc: 8.2781e-04\n",
      "Epoch 2/20\n",
      "1208/1208 [==============================] - 10s 8ms/step - loss: 0.0014 - acc: 8.2781e-04: 5s - loss: \n",
      "Epoch 3/20\n",
      "1208/1208 [==============================] - 9s 7ms/step - loss: 0.0012 - acc: 8.2781e-04A: 1s - loss: 0.0012 - acc: 9.469\n",
      "Epoch 4/20\n",
      "1208/1208 [==============================] - 9s 7ms/step - loss: 0.0012 - acc: 8.2781e-04\n",
      "Epoch 5/20\n",
      "1208/1208 [==============================] - 9s 8ms/step - loss: 0.0011 - acc: 8.2781e-04\n",
      "Epoch 6/20\n",
      "1208/1208 [==============================] - 9s 8ms/step - loss: 0.0010 - acc: 8.2781e-04\n",
      "Epoch 7/20\n",
      "1208/1208 [==============================] - 10s 8ms/step - loss: 0.0011 - acc: 8.2781e-04\n",
      "Epoch 8/20\n",
      "1208/1208 [==============================] - 10s 8ms/step - loss: 9.6488e-04 - acc: 8.2781e-046s -\n",
      "Epoch 9/20\n",
      "1208/1208 [==============================] - 11s 9ms/step - loss: 0.0010 - acc: 8.2781e-04\n",
      "Epoch 10/20\n",
      "1208/1208 [==============================] - 10s 8ms/step - loss: 0.0011 - acc: 8.2781e-04: 6s - loss: 0\n",
      "Epoch 11/20\n",
      "1208/1208 [==============================] - 9s 8ms/step - loss: 0.0010 - acc: 8.2781e-04\n",
      "Epoch 12/20\n",
      "1208/1208 [==============================] - 9s 7ms/step - loss: 0.0012 - acc: 8.2781e-04\n",
      "Epoch 13/20\n",
      "1208/1208 [==============================] - 9s 7ms/step - loss: 8.1824e-04 - acc: 8.2781e-04\n",
      "Epoch 14/20\n",
      "1208/1208 [==============================] - 9s 7ms/step - loss: 7.6318e-04 - acc: 8.2781e-04A: 4s - loss: 6.9507e-04\n",
      "Epoch 15/20\n",
      "1208/1208 [==============================] - 9s 7ms/step - loss: 6.9764e-04 - acc: 8.2781e-04\n",
      "Epoch 16/20\n",
      "1208/1208 [==============================] - 9s 8ms/step - loss: 6.8052e-04 - acc: 8.2781e-04\n",
      "Epoch 17/20\n",
      "1208/1208 [==============================] - 10s 8ms/step - loss: 7.4361e-04 - acc: 8.2781e-04\n",
      "Epoch 18/20\n",
      "1208/1208 [==============================] - 10s 8ms/step - loss: 6.3746e-04 - acc: 8.2781e-04\n",
      "Epoch 19/20\n",
      "1208/1208 [==============================] - 10s 8ms/step - loss: 6.2716e-04 - acc: 8.2781e-04: 0s - loss: 6.2288e-04 - acc: 8.4459e-0\n",
      "Epoch 20/20\n",
      "1208/1208 [==============================] - 9s 7ms/step - loss: 5.9007e-04 - acc: 8.2781e-04TA: 9s - loss: 6.6768 - ETA: 3s - loss: 5.8039e-04 - acc: 0.001 - ETA: 2s - loss: 5.9242e-04 \n"
     ]
    },
    {
     "data": {
      "text/plain": [
       "<keras.callbacks.History at 0xc667c74c18>"
      ]
     },
     "execution_count": 95,
     "metadata": {},
     "output_type": "execute_result"
    }
   ],
   "source": [
    "# Now compile the model and fit\n",
    "\n",
    "model.compile(optimizer='adam', loss='mean_squared_error')        # metrics=['accuracy']\n",
    "\n",
    "model.fit(X, y, epochs=20, batch_size=32)        # increase epochs acc."
   ]
  },
  {
   "cell_type": "code",
   "execution_count": 100,
   "metadata": {},
   "outputs": [],
   "source": [
    "# finally predict the stock prices of the test data\n",
    "\n",
    "predicted_value = model.predict(X_test)"
   ]
  },
  {
   "cell_type": "markdown",
   "metadata": {},
   "source": [
    "##### We are not doing an inverse scalar function, directly plotting the scaled stock prices and scaled predicted prices.\n",
    "##### For plotting actual stock prices against the predicted stock prices, we need to start from lookback rows till the size of the test data"
   ]
  },
  {
   "cell_type": "code",
   "execution_count": 104,
   "metadata": {},
   "outputs": [
    {
     "data": {
      "image/png": "[encoded data removed]",
      "text/plain": [
       "<Figure size 432x288 with 1 Axes>"
      ]
     },
     "metadata": {
      "needs_background": "light"
     },
     "output_type": "display_data"
    }
   ],
   "source": [
    "plt.plot(input_data[lookback:test_size + (2*lookback), 1], color='green', label='real stock price') \n",
    "plt.plot(predicted_value, color= 'red', label='predicted stock price')\n",
    "\n",
    "plt.legend()\n",
    "plt.title(\"Opening price of stocks sold\")\n",
    "plt.xlabel(\"Time (latest-> oldest)\")\n",
    "plt.ylabel(\"Stock Opening Price\")\n",
    "plt.show()"
   ]
  }
 ],
 "metadata": {
  "kernelspec": {
   "display_name": "Python 3",
   "language": "python",
   "name": "python3"
  },
  "language_info": {
   "codemirror_mode": {
    "name": "ipython",
    "version": 3
   },
   "file_extension": ".py",
   "mimetype": "text/x-python",
   "name": "python",
   "nbconvert_exporter": "python",
   "pygments_lexer": "ipython3",
   "version": "3.6.8"
  }
 },
 "nbformat": 4,
 "nbformat_minor": 2
}
